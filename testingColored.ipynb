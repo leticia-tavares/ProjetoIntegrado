{
 "cells": [
  {
   "cell_type": "code",
   "execution_count": 16,
   "id": "activated-interim",
   "metadata": {},
   "outputs": [],
   "source": [
    "import cv2 \n",
    "import numpy as np\n",
    "from keras.models import load_model\n",
    "from keras.preprocessing.image import ImageDataGenerator"
   ]
  },
  {
   "cell_type": "code",
   "execution_count": 17,
   "id": "hourly-conversation",
   "metadata": {},
   "outputs": [],
   "source": [
    "model = load_model(\"./model-008\")\n",
    "results_dict = {0:'without mask',1:'mask'}"
   ]
  },
  {
   "cell_type": "code",
   "execution_count": 18,
   "id": "friendly-chinese",
   "metadata": {},
   "outputs": [],
   "source": [
    "TEST_DIR = \"./Test\"\n",
    "test_set = ImageDataGenerator(rescale=1.0/255)"
   ]
  },
  {
   "cell_type": "code",
   "execution_count": 19,
   "id": "guilty-bridal",
   "metadata": {},
   "outputs": [
    {
     "name": "stdout",
     "output_type": "stream",
     "text": [
      "Found 992 images belonging to 2 classes.\n"
     ]
    }
   ],
   "source": [
    "test_set = test_set.flow_from_directory(TEST_DIR, batch_size=10, target_size=(180, 180))"
   ]
  },
  {
   "cell_type": "code",
   "execution_count": 27,
   "id": "domestic-volunteer",
   "metadata": {},
   "outputs": [
    {
     "name": "stdout",
     "output_type": "stream",
     "text": [
      "Evaluate model on dataset with colored masks: \n",
      "100/100 [==============================] - 12s 121ms/step - loss: 1.1097 - acc: 0.7641\n",
      "Test loss, Test accuracy: [1.1097067594528198, 0.7641128897666931]\n"
     ]
    }
   ],
   "source": [
    "print(\"Evaluate model on dataset with colored masks: \")\n",
    "results = model.evaluate(test_set, batch_size=10)\n",
    "print(\"Test loss, Test accuracy:\", results)"
   ]
  },
  {
   "cell_type": "code",
   "execution_count": null,
   "id": "welcome-sympathy",
   "metadata": {},
   "outputs": [],
   "source": []
  }
 ],
 "metadata": {
  "kernelspec": {
   "display_name": "Python 3",
   "language": "python",
   "name": "python3"
  },
  "language_info": {
   "codemirror_mode": {
    "name": "ipython",
    "version": 3
   },
   "file_extension": ".py",
   "mimetype": "text/x-python",
   "name": "python",
   "nbconvert_exporter": "python",
   "pygments_lexer": "ipython3",
   "version": "3.8.5"
  }
 },
 "nbformat": 4,
 "nbformat_minor": 5
}
