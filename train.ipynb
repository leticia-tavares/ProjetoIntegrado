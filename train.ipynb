{
 "cells": [
  {
   "cell_type": "markdown",
   "id": "prospective-stuff",
   "metadata": {},
   "source": [
    "# Detector De Máscara Facial"
   ]
  },
  {
   "cell_type": "markdown",
   "id": "existing-ambassador",
   "metadata": {},
   "source": [
    "### Dependências"
   ]
  },
  {
   "cell_type": "code",
   "execution_count": 11,
   "id": "indoor-albert",
   "metadata": {},
   "outputs": [],
   "source": [
    "import numpy as np\n",
    "import matplotlib.pyplot as plt\n",
    "\n",
    "from sklearn.metrics import accuracy_score\n",
    "\n",
    "from keras.models import Sequential\n",
    "from keras.callbacks import TensorBoard, ModelCheckpoint, History\n",
    "from keras.preprocessing.image import ImageDataGenerator\n",
    "from keras.layers import Conv2D, Input, ZeroPadding2D, BatchNormalization, Activation, MaxPooling2D, Flatten, Dense,Dropout\n",
    "from keras.models import Model, load_model"
   ]
  },
  {
   "cell_type": "markdown",
   "id": "artificial-charm",
   "metadata": {},
   "source": [
    "### Importação do Dataset\n",
    "#### x_train, y_train"
   ]
  },
  {
   "cell_type": "code",
   "execution_count": 2,
   "id": "quality-hydrogen",
   "metadata": {},
   "outputs": [],
   "source": [
    "TRAIN_DIR = \"./Train-2\"\n",
    "train_set = ImageDataGenerator(rescale=1.0/255, rotation_range=40, width_shift_range=0.2, height_shift_range=0.2,\n",
    "                                   shear_range=0.2, zoom_range=0.2, horizontal_flip=True, fill_mode='nearest')\n"
   ]
  },
  {
   "cell_type": "code",
   "execution_count": 3,
   "id": "italic-insert",
   "metadata": {
    "scrolled": true
   },
   "outputs": [
    {
     "name": "stdout",
     "output_type": "stream",
     "text": [
      "Found 1315 images belonging to 2 classes.\n"
     ]
    }
   ],
   "source": [
    "train_set = train_set.flow_from_directory(TRAIN_DIR, batch_size=10, target_size=(180, 180))"
   ]
  },
  {
   "cell_type": "markdown",
   "id": "southern-seating",
   "metadata": {},
   "source": [
    "#### x_validation, y_validation"
   ]
  },
  {
   "cell_type": "code",
   "execution_count": 4,
   "id": "different-howard",
   "metadata": {},
   "outputs": [],
   "source": [
    "VALIDATION_DIR = \"./Validation-2\"\n",
    "validation_set = ImageDataGenerator(rescale=1.0/255)"
   ]
  },
  {
   "cell_type": "code",
   "execution_count": 5,
   "id": "vital-ridge",
   "metadata": {},
   "outputs": [
    {
     "name": "stdout",
     "output_type": "stream",
     "text": [
      "Found 194 images belonging to 2 classes.\n"
     ]
    }
   ],
   "source": [
    "validation_set = validation_set.flow_from_directory(VALIDATION_DIR, batch_size=10, target_size=(180, 180))"
   ]
  },
  {
   "cell_type": "code",
   "execution_count": 6,
   "id": "friendly-organ",
   "metadata": {},
   "outputs": [
    {
     "name": "stdout",
     "output_type": "stream",
     "text": [
      "Training data classes:  {'WithMask': 0, 'WithoutMask': 1}\n",
      "Validation data classes:  {'WithMask': 0, 'WithoutMask': 1}\n"
     ]
    }
   ],
   "source": [
    "print('Training data classes: ', train_set.class_indices)\n",
    "print('Validation data classes: ', validation_set.class_indices)"
   ]
  },
  {
   "cell_type": "code",
   "execution_count": 7,
   "id": "higher-count",
   "metadata": {},
   "outputs": [
    {
     "name": "stdout",
     "output_type": "stream",
     "text": [
      "Training data shape: x_train =  (10, 180, 180, 3)\n",
      "Training data shape: y_train =  (10, 2)\n"
     ]
    }
   ],
   "source": [
    "x_train, y_train = next(train_set)\n",
    "print(\"Training data shape: x_train = \", x_train.shape)\n",
    "print(\"Training data shape: y_train = \", y_train.shape)"
   ]
  },
  {
   "cell_type": "markdown",
   "id": "abroad-hollow",
   "metadata": {},
   "source": [
    "### Convolutional Neural Network"
   ]
  },
  {
   "cell_type": "code",
   "execution_count": 8,
   "id": "administrative-religion",
   "metadata": {},
   "outputs": [],
   "source": [
    "model = Sequential([ \n",
    "    Conv2D(100, (3,3), activation='relu', input_shape = (180, 180, 3)), #input_shape = h, w, RGB\n",
    "    MaxPooling2D(2,2),\n",
    "  \n",
    "    Conv2D(100, (3,3), activation='relu'),\n",
    "    MaxPooling2D(2,2),\n",
    "       \n",
    "    Flatten(),\n",
    "    Dropout(0.5),\n",
    "    Dense(50, activation='relu'),\n",
    "    Dense(2, activation='softmax'), # ou sigmoid\n",
    "])"
   ]
  },
  {
   "cell_type": "code",
   "execution_count": 9,
   "id": "distributed-pollution",
   "metadata": {},
   "outputs": [],
   "source": [
    "model.compile(optimizer='adam',loss='binary_crossentropy', metrics=['acc'])"
   ]
  },
  {
   "cell_type": "code",
   "execution_count": 10,
   "id": "japanese-lithuania",
   "metadata": {},
   "outputs": [
    {
     "name": "stdout",
     "output_type": "stream",
     "text": [
      "Model: \"sequential\"\n",
      "_________________________________________________________________\n",
      "Layer (type)                 Output Shape              Param #   \n",
      "=================================================================\n",
      "conv2d (Conv2D)              (None, 178, 178, 100)     2800      \n",
      "_________________________________________________________________\n",
      "max_pooling2d (MaxPooling2D) (None, 89, 89, 100)       0         \n",
      "_________________________________________________________________\n",
      "conv2d_1 (Conv2D)            (None, 87, 87, 100)       90100     \n",
      "_________________________________________________________________\n",
      "max_pooling2d_1 (MaxPooling2 (None, 43, 43, 100)       0         \n",
      "_________________________________________________________________\n",
      "flatten (Flatten)            (None, 184900)            0         \n",
      "_________________________________________________________________\n",
      "dropout (Dropout)            (None, 184900)            0         \n",
      "_________________________________________________________________\n",
      "dense (Dense)                (None, 50)                9245050   \n",
      "_________________________________________________________________\n",
      "dense_1 (Dense)              (None, 2)                 102       \n",
      "=================================================================\n",
      "Total params: 9,338,052\n",
      "Trainable params: 9,338,052\n",
      "Non-trainable params: 0\n",
      "_________________________________________________________________\n"
     ]
    }
   ],
   "source": [
    "model.summary()"
   ]
  },
  {
   "cell_type": "markdown",
   "id": "absent-worth",
   "metadata": {},
   "source": [
    "#### Salvar melhor modelo"
   ]
  },
  {
   "cell_type": "code",
   "execution_count": 10,
   "id": "bearing-patient",
   "metadata": {},
   "outputs": [],
   "source": [
    "checkpoint = ModelCheckpoint('model-{epoch:03d}',monitor='val_loss',verbose=0,save_best_only=True,mode='auto')"
   ]
  },
  {
   "cell_type": "markdown",
   "id": "sexual-dynamics",
   "metadata": {},
   "source": [
    "#### Deep Learning"
   ]
  },
  {
   "cell_type": "code",
   "execution_count": 11,
   "id": "every-while",
   "metadata": {
    "scrolled": true
   },
   "outputs": [
    {
     "name": "stdout",
     "output_type": "stream",
     "text": [
      "Epoch 1/10\n",
      "132/132 [==============================] - 76s 483ms/step - loss: 0.8415 - acc: 0.4784 - val_loss: 0.5429 - val_acc: 0.7732\n",
      "INFO:tensorflow:Assets written to: model-001/assets\n",
      "Epoch 2/10\n",
      "132/132 [==============================] - 67s 508ms/step - loss: 0.6058 - acc: 0.6857 - val_loss: 0.4268 - val_acc: 0.8041\n",
      "INFO:tensorflow:Assets written to: model-002/assets\n",
      "Epoch 3/10\n",
      "132/132 [==============================] - 74s 560ms/step - loss: 0.4595 - acc: 0.7995 - val_loss: 0.1748 - val_acc: 0.9485\n",
      "INFO:tensorflow:Assets written to: model-003/assets\n",
      "Epoch 4/10\n",
      "132/132 [==============================] - 73s 551ms/step - loss: 0.3074 - acc: 0.8915 - val_loss: 0.1428 - val_acc: 0.9330\n",
      "INFO:tensorflow:Assets written to: model-004/assets\n",
      "Epoch 5/10\n",
      "132/132 [==============================] - 73s 550ms/step - loss: 0.2734 - acc: 0.8909 - val_loss: 0.1116 - val_acc: 0.9742\n",
      "INFO:tensorflow:Assets written to: model-005/assets\n",
      "Epoch 6/10\n",
      "132/132 [==============================] - 71s 534ms/step - loss: 0.3041 - acc: 0.8839 - val_loss: 0.0959 - val_acc: 0.9588\n",
      "INFO:tensorflow:Assets written to: model-006/assets\n",
      "Epoch 7/10\n",
      "132/132 [==============================] - 68s 512ms/step - loss: 0.2241 - acc: 0.9139 - val_loss: 0.1447 - val_acc: 0.9794\n",
      "Epoch 8/10\n",
      "132/132 [==============================] - 63s 479ms/step - loss: 0.2443 - acc: 0.9062 - val_loss: 0.0905 - val_acc: 0.9794\n",
      "INFO:tensorflow:Assets written to: model-008/assets\n",
      "Epoch 9/10\n",
      "132/132 [==============================] - 69s 526ms/step - loss: 0.2040 - acc: 0.9290 - val_loss: 0.0429 - val_acc: 0.9897\n",
      "INFO:tensorflow:Assets written to: model-009/assets\n",
      "Epoch 10/10\n",
      "132/132 [==============================] - 64s 481ms/step - loss: 0.1863 - acc: 0.9235 - val_loss: 0.0769 - val_acc: 0.9536\n"
     ]
    }
   ],
   "source": [
    "history = model.fit(train_set, epochs=10, validation_data=validation_set, callbacks=[checkpoint])"
   ]
  },
  {
   "cell_type": "markdown",
   "id": "unavailable-custom",
   "metadata": {},
   "source": [
    "### Performance"
   ]
  },
  {
   "cell_type": "code",
   "execution_count": 72,
   "id": "eleven-knife",
   "metadata": {},
   "outputs": [
    {
     "data": {
      "image/png": "[encoded data removed]",
      "text/plain": [
       "<Figure size 432x288 with 1 Axes>"
      ]
     },
     "metadata": {},
     "output_type": "display_data"
    }
   ],
   "source": [
    "plt.style.use(\"ggplot\")\n",
    "plt.figure()\n",
    "plt.plot(np.arange(0, 10), history.history[\"loss\"], label=\"train_loss\")\n",
    "plt.plot(np.arange(0, 10), history.history[\"val_loss\"], label=\"val_loss\")\n",
    "plt.plot(np.arange(0, 10), history.history[\"acc\"], label=\"train_acc\")\n",
    "plt.plot(np.arange(0, 10), history.history[\"val_acc\"], label=\"val_acc\")\n",
    "plt.title(\"Training Loss and Accuracy\")\n",
    "plt.xlabel(\"Epoch\")\n",
    "plt.ylabel(\"Loss/Accuracy\")\n",
    "plt.legend()\n",
    "plt.show()"
   ]
  },
  {
   "cell_type": "code",
   "execution_count": null,
   "id": "sonic-donor",
   "metadata": {},
   "outputs": [],
   "source": []
  }
 ],
 "metadata": {
  "kernelspec": {
   "display_name": "Python 3",
   "language": "python",
   "name": "python3"
  },
  "language_info": {
   "codemirror_mode": {
    "name": "ipython",
    "version": 3
   },
   "file_extension": ".py",
   "mimetype": "text/x-python",
   "name": "python",
   "nbconvert_exporter": "python",
   "pygments_lexer": "ipython3",
   "version": "3.8.5"
  }
 },
 "nbformat": 4,
 "nbformat_minor": 5
}
